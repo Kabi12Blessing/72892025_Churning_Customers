{
  "cells": [
    {
      "cell_type": "code",
      "execution_count": null,
      "metadata": {
        "colab": {
          "base_uri": "https://localhost:8080/"
        },
        "id": "efhbsq3Plirk",
        "outputId": "013df715-a112-4866-c3d2-0ada31ddf921"
      },
      "outputs": [
        {
          "output_type": "stream",
          "name": "stdout",
          "text": [
            "Drive already mounted at /content/drive; to attempt to forcibly remount, call drive.mount(\"/content/drive\", force_remount=True).\n"
          ]
        }
      ],
      "source": [
        "import joblib\n",
        "import numpy as np\n",
        "import pandas as pd\n",
        "import seaborn as sns\n",
        "from google.colab import drive\n",
        "import matplotlib.pyplot as plt\n",
        "from sklearn.impute import SimpleImputer\n",
        "from sklearn.preprocessing import LabelEncoder\n",
        "from sklearn.preprocessing import StandardScaler\n",
        "from sklearn.ensemble import RandomForestClassifier\n",
        "from sklearn.model_selection import train_test_split\n",
        "drive.mount('/content/drive')"
      ]
    },
    {
      "cell_type": "code",
      "execution_count": null,
      "metadata": {
        "colab": {
          "base_uri": "https://localhost:8080/",
          "height": 342
        },
        "id": "VgUz8GPpoMrw",
        "outputId": "92cf270d-cea2-4bbb-d482-64c8154eb4ad"
      },
      "outputs": [
        {
          "output_type": "execute_result",
          "data": {
            "text/plain": [
              "   customerID  gender  SeniorCitizen Partner Dependents  tenure PhoneService  \\\n",
              "0  7590-VHVEG  Female              0     Yes         No       1           No   \n",
              "1  5575-GNVDE    Male              0      No         No      34          Yes   \n",
              "2  3668-QPYBK    Male              0      No         No       2          Yes   \n",
              "3  7795-CFOCW    Male              0      No         No      45           No   \n",
              "4  9237-HQITU  Female              0      No         No       2          Yes   \n",
              "\n",
              "      MultipleLines InternetService OnlineSecurity  ... DeviceProtection  \\\n",
              "0  No phone service             DSL             No  ...               No   \n",
              "1                No             DSL            Yes  ...              Yes   \n",
              "2                No             DSL            Yes  ...               No   \n",
              "3  No phone service             DSL            Yes  ...              Yes   \n",
              "4                No     Fiber optic             No  ...               No   \n",
              "\n",
              "  TechSupport StreamingTV StreamingMovies        Contract PaperlessBilling  \\\n",
              "0          No          No              No  Month-to-month              Yes   \n",
              "1          No          No              No        One year               No   \n",
              "2          No          No              No  Month-to-month              Yes   \n",
              "3         Yes          No              No        One year               No   \n",
              "4          No          No              No  Month-to-month              Yes   \n",
              "\n",
              "               PaymentMethod MonthlyCharges  TotalCharges Churn  \n",
              "0           Electronic check          29.85         29.85    No  \n",
              "1               Mailed check          56.95        1889.5    No  \n",
              "2               Mailed check          53.85        108.15   Yes  \n",
              "3  Bank transfer (automatic)          42.30       1840.75    No  \n",
              "4           Electronic check          70.70        151.65   Yes  \n",
              "\n",
              "[5 rows x 21 columns]"
            ],
            "text/html": [
              "\n",
              "  <div id=\"df-d53511d5-4e36-4265-9c24-f6eef4175d73\" class=\"colab-df-container\">\n",
              "    <div>\n",
              "<style scoped>\n",
              "    .dataframe tbody tr th:only-of-type {\n",
              "        vertical-align: middle;\n",
              "    }\n",
              "\n",
              "    .dataframe tbody tr th {\n",
              "        vertical-align: top;\n",
              "    }\n",
              "\n",
              "    .dataframe thead th {\n",
              "        text-align: right;\n",
              "    }\n",
              "</style>\n",
              "<table border=\"1\" class=\"dataframe\">\n",
              "  <thead>\n",
              "    <tr style=\"text-align: right;\">\n",
              "      <th></th>\n",
              "      <th>customerID</th>\n",
              "      <th>gender</th>\n",
              "      <th>SeniorCitizen</th>\n",
              "      <th>Partner</th>\n",
              "      <th>Dependents</th>\n",
              "      <th>tenure</th>\n",
              "      <th>PhoneService</th>\n",
              "      <th>MultipleLines</th>\n",
              "      <th>InternetService</th>\n",
              "      <th>OnlineSecurity</th>\n",
              "      <th>...</th>\n",
              "      <th>DeviceProtection</th>\n",
              "      <th>TechSupport</th>\n",
              "      <th>StreamingTV</th>\n",
              "      <th>StreamingMovies</th>\n",
              "      <th>Contract</th>\n",
              "      <th>PaperlessBilling</th>\n",
              "      <th>PaymentMethod</th>\n",
              "      <th>MonthlyCharges</th>\n",
              "      <th>TotalCharges</th>\n",
              "      <th>Churn</th>\n",
              "    </tr>\n",
              "  </thead>\n",
              "  <tbody>\n",
              "    <tr>\n",
              "      <th>0</th>\n",
              "      <td>7590-VHVEG</td>\n",
              "      <td>Female</td>\n",
              "      <td>0</td>\n",
              "      <td>Yes</td>\n",
              "      <td>No</td>\n",
              "      <td>1</td>\n",
              "      <td>No</td>\n",
              "      <td>No phone service</td>\n",
              "      <td>DSL</td>\n",
              "      <td>No</td>\n",
              "      <td>...</td>\n",
              "      <td>No</td>\n",
              "      <td>No</td>\n",
              "      <td>No</td>\n",
              "      <td>No</td>\n",
              "      <td>Month-to-month</td>\n",
              "      <td>Yes</td>\n",
              "      <td>Electronic check</td>\n",
              "      <td>29.85</td>\n",
              "      <td>29.85</td>\n",
              "      <td>No</td>\n",
              "    </tr>\n",
              "    <tr>\n",
              "      <th>1</th>\n",
              "      <td>5575-GNVDE</td>\n",
              "      <td>Male</td>\n",
              "      <td>0</td>\n",
              "      <td>No</td>\n",
              "      <td>No</td>\n",
              "      <td>34</td>\n",
              "      <td>Yes</td>\n",
              "      <td>No</td>\n",
              "      <td>DSL</td>\n",
              "      <td>Yes</td>\n",
              "      <td>...</td>\n",
              "      <td>Yes</td>\n",
              "      <td>No</td>\n",
              "      <td>No</td>\n",
              "      <td>No</td>\n",
              "      <td>One year</td>\n",
              "      <td>No</td>\n",
              "      <td>Mailed check</td>\n",
              "      <td>56.95</td>\n",
              "      <td>1889.5</td>\n",
              "      <td>No</td>\n",
              "    </tr>\n",
              "    <tr>\n",
              "      <th>2</th>\n",
              "      <td>3668-QPYBK</td>\n",
              "      <td>Male</td>\n",
              "      <td>0</td>\n",
              "      <td>No</td>\n",
              "      <td>No</td>\n",
              "      <td>2</td>\n",
              "      <td>Yes</td>\n",
              "      <td>No</td>\n",
              "      <td>DSL</td>\n",
              "      <td>Yes</td>\n",
              "      <td>...</td>\n",
              "      <td>No</td>\n",
              "      <td>No</td>\n",
              "      <td>No</td>\n",
              "      <td>No</td>\n",
              "      <td>Month-to-month</td>\n",
              "      <td>Yes</td>\n",
              "      <td>Mailed check</td>\n",
              "      <td>53.85</td>\n",
              "      <td>108.15</td>\n",
              "      <td>Yes</td>\n",
              "    </tr>\n",
              "    <tr>\n",
              "      <th>3</th>\n",
              "      <td>7795-CFOCW</td>\n",
              "      <td>Male</td>\n",
              "      <td>0</td>\n",
              "      <td>No</td>\n",
              "      <td>No</td>\n",
              "      <td>45</td>\n",
              "      <td>No</td>\n",
              "      <td>No phone service</td>\n",
              "      <td>DSL</td>\n",
              "      <td>Yes</td>\n",
              "      <td>...</td>\n",
              "      <td>Yes</td>\n",
              "      <td>Yes</td>\n",
              "      <td>No</td>\n",
              "      <td>No</td>\n",
              "      <td>One year</td>\n",
              "      <td>No</td>\n",
              "      <td>Bank transfer (automatic)</td>\n",
              "      <td>42.30</td>\n",
              "      <td>1840.75</td>\n",
              "      <td>No</td>\n",
              "    </tr>\n",
              "    <tr>\n",
              "      <th>4</th>\n",
              "      <td>9237-HQITU</td>\n",
              "      <td>Female</td>\n",
              "      <td>0</td>\n",
              "      <td>No</td>\n",
              "      <td>No</td>\n",
              "      <td>2</td>\n",
              "      <td>Yes</td>\n",
              "      <td>No</td>\n",
              "      <td>Fiber optic</td>\n",
              "      <td>No</td>\n",
              "      <td>...</td>\n",
              "      <td>No</td>\n",
              "      <td>No</td>\n",
              "      <td>No</td>\n",
              "      <td>No</td>\n",
              "      <td>Month-to-month</td>\n",
              "      <td>Yes</td>\n",
              "      <td>Electronic check</td>\n",
              "      <td>70.70</td>\n",
              "      <td>151.65</td>\n",
              "      <td>Yes</td>\n",
              "    </tr>\n",
              "  </tbody>\n",
              "</table>\n",
              "<p>5 rows × 21 columns</p>\n",
              "</div>\n",
              "    <div class=\"colab-df-buttons\">\n",
              "\n",
              "  <div class=\"colab-df-container\">\n",
              "    <button class=\"colab-df-convert\" onclick=\"convertToInteractive('df-d53511d5-4e36-4265-9c24-f6eef4175d73')\"\n",
              "            title=\"Convert this dataframe to an interactive table.\"\n",
              "            style=\"display:none;\">\n",
              "\n",
              "  <svg xmlns=\"http://www.w3.org/2000/svg\" height=\"24px\" viewBox=\"0 -960 960 960\">\n",
              "    <path d=\"M120-120v-720h720v720H120Zm60-500h600v-160H180v160Zm220 220h160v-160H400v160Zm0 220h160v-160H400v160ZM180-400h160v-160H180v160Zm440 0h160v-160H620v160ZM180-180h160v-160H180v160Zm440 0h160v-160H620v160Z\"/>\n",
              "  </svg>\n",
              "    </button>\n",
              "\n",
              "  <style>\n",
              "    .colab-df-container {\n",
              "      display:flex;\n",
              "      gap: 12px;\n",
              "    }\n",
              "\n",
              "    .colab-df-convert {\n",
              "      background-color: #E8F0FE;\n",
              "      border: none;\n",
              "      border-radius: 50%;\n",
              "      cursor: pointer;\n",
              "      display: none;\n",
              "      fill: #1967D2;\n",
              "      height: 32px;\n",
              "      padding: 0 0 0 0;\n",
              "      width: 32px;\n",
              "    }\n",
              "\n",
              "    .colab-df-convert:hover {\n",
              "      background-color: #E2EBFA;\n",
              "      box-shadow: 0px 1px 2px rgba(60, 64, 67, 0.3), 0px 1px 3px 1px rgba(60, 64, 67, 0.15);\n",
              "      fill: #174EA6;\n",
              "    }\n",
              "\n",
              "    .colab-df-buttons div {\n",
              "      margin-bottom: 4px;\n",
              "    }\n",
              "\n",
              "    [theme=dark] .colab-df-convert {\n",
              "      background-color: #3B4455;\n",
              "      fill: #D2E3FC;\n",
              "    }\n",
              "\n",
              "    [theme=dark] .colab-df-convert:hover {\n",
              "      background-color: #434B5C;\n",
              "      box-shadow: 0px 1px 3px 1px rgba(0, 0, 0, 0.15);\n",
              "      filter: drop-shadow(0px 1px 2px rgba(0, 0, 0, 0.3));\n",
              "      fill: #FFFFFF;\n",
              "    }\n",
              "  </style>\n",
              "\n",
              "    <script>\n",
              "      const buttonEl =\n",
              "        document.querySelector('#df-d53511d5-4e36-4265-9c24-f6eef4175d73 button.colab-df-convert');\n",
              "      buttonEl.style.display =\n",
              "        google.colab.kernel.accessAllowed ? 'block' : 'none';\n",
              "\n",
              "      async function convertToInteractive(key) {\n",
              "        const element = document.querySelector('#df-d53511d5-4e36-4265-9c24-f6eef4175d73');\n",
              "        const dataTable =\n",
              "          await google.colab.kernel.invokeFunction('convertToInteractive',\n",
              "                                                    [key], {});\n",
              "        if (!dataTable) return;\n",
              "\n",
              "        const docLinkHtml = 'Like what you see? Visit the ' +\n",
              "          '<a target=\"_blank\" href=https://colab.research.google.com/notebooks/data_table.ipynb>data table notebook</a>'\n",
              "          + ' to learn more about interactive tables.';\n",
              "        element.innerHTML = '';\n",
              "        dataTable['output_type'] = 'display_data';\n",
              "        await google.colab.output.renderOutput(dataTable, element);\n",
              "        const docLink = document.createElement('div');\n",
              "        docLink.innerHTML = docLinkHtml;\n",
              "        element.appendChild(docLink);\n",
              "      }\n",
              "    </script>\n",
              "  </div>\n",
              "\n",
              "\n",
              "<div id=\"df-c5a228e2-7c56-41ef-b004-23c7dc29f89c\">\n",
              "  <button class=\"colab-df-quickchart\" onclick=\"quickchart('df-c5a228e2-7c56-41ef-b004-23c7dc29f89c')\"\n",
              "            title=\"Suggest charts\"\n",
              "            style=\"display:none;\">\n",
              "\n",
              "<svg xmlns=\"http://www.w3.org/2000/svg\" height=\"24px\"viewBox=\"0 0 24 24\"\n",
              "     width=\"24px\">\n",
              "    <g>\n",
              "        <path d=\"M19 3H5c-1.1 0-2 .9-2 2v14c0 1.1.9 2 2 2h14c1.1 0 2-.9 2-2V5c0-1.1-.9-2-2-2zM9 17H7v-7h2v7zm4 0h-2V7h2v10zm4 0h-2v-4h2v4z\"/>\n",
              "    </g>\n",
              "</svg>\n",
              "  </button>\n",
              "\n",
              "<style>\n",
              "  .colab-df-quickchart {\n",
              "      --bg-color: #E8F0FE;\n",
              "      --fill-color: #1967D2;\n",
              "      --hover-bg-color: #E2EBFA;\n",
              "      --hover-fill-color: #174EA6;\n",
              "      --disabled-fill-color: #AAA;\n",
              "      --disabled-bg-color: #DDD;\n",
              "  }\n",
              "\n",
              "  [theme=dark] .colab-df-quickchart {\n",
              "      --bg-color: #3B4455;\n",
              "      --fill-color: #D2E3FC;\n",
              "      --hover-bg-color: #434B5C;\n",
              "      --hover-fill-color: #FFFFFF;\n",
              "      --disabled-bg-color: #3B4455;\n",
              "      --disabled-fill-color: #666;\n",
              "  }\n",
              "\n",
              "  .colab-df-quickchart {\n",
              "    background-color: var(--bg-color);\n",
              "    border: none;\n",
              "    border-radius: 50%;\n",
              "    cursor: pointer;\n",
              "    display: none;\n",
              "    fill: var(--fill-color);\n",
              "    height: 32px;\n",
              "    padding: 0;\n",
              "    width: 32px;\n",
              "  }\n",
              "\n",
              "  .colab-df-quickchart:hover {\n",
              "    background-color: var(--hover-bg-color);\n",
              "    box-shadow: 0 1px 2px rgba(60, 64, 67, 0.3), 0 1px 3px 1px rgba(60, 64, 67, 0.15);\n",
              "    fill: var(--button-hover-fill-color);\n",
              "  }\n",
              "\n",
              "  .colab-df-quickchart-complete:disabled,\n",
              "  .colab-df-quickchart-complete:disabled:hover {\n",
              "    background-color: var(--disabled-bg-color);\n",
              "    fill: var(--disabled-fill-color);\n",
              "    box-shadow: none;\n",
              "  }\n",
              "\n",
              "  .colab-df-spinner {\n",
              "    border: 2px solid var(--fill-color);\n",
              "    border-color: transparent;\n",
              "    border-bottom-color: var(--fill-color);\n",
              "    animation:\n",
              "      spin 1s steps(1) infinite;\n",
              "  }\n",
              "\n",
              "  @keyframes spin {\n",
              "    0% {\n",
              "      border-color: transparent;\n",
              "      border-bottom-color: var(--fill-color);\n",
              "      border-left-color: var(--fill-color);\n",
              "    }\n",
              "    20% {\n",
              "      border-color: transparent;\n",
              "      border-left-color: var(--fill-color);\n",
              "      border-top-color: var(--fill-color);\n",
              "    }\n",
              "    30% {\n",
              "      border-color: transparent;\n",
              "      border-left-color: var(--fill-color);\n",
              "      border-top-color: var(--fill-color);\n",
              "      border-right-color: var(--fill-color);\n",
              "    }\n",
              "    40% {\n",
              "      border-color: transparent;\n",
              "      border-right-color: var(--fill-color);\n",
              "      border-top-color: var(--fill-color);\n",
              "    }\n",
              "    60% {\n",
              "      border-color: transparent;\n",
              "      border-right-color: var(--fill-color);\n",
              "    }\n",
              "    80% {\n",
              "      border-color: transparent;\n",
              "      border-right-color: var(--fill-color);\n",
              "      border-bottom-color: var(--fill-color);\n",
              "    }\n",
              "    90% {\n",
              "      border-color: transparent;\n",
              "      border-bottom-color: var(--fill-color);\n",
              "    }\n",
              "  }\n",
              "</style>\n",
              "\n",
              "  <script>\n",
              "    async function quickchart(key) {\n",
              "      const quickchartButtonEl =\n",
              "        document.querySelector('#' + key + ' button');\n",
              "      quickchartButtonEl.disabled = true;  // To prevent multiple clicks.\n",
              "      quickchartButtonEl.classList.add('colab-df-spinner');\n",
              "      try {\n",
              "        const charts = await google.colab.kernel.invokeFunction(\n",
              "            'suggestCharts', [key], {});\n",
              "      } catch (error) {\n",
              "        console.error('Error during call to suggestCharts:', error);\n",
              "      }\n",
              "      quickchartButtonEl.classList.remove('colab-df-spinner');\n",
              "      quickchartButtonEl.classList.add('colab-df-quickchart-complete');\n",
              "    }\n",
              "    (() => {\n",
              "      let quickchartButtonEl =\n",
              "        document.querySelector('#df-c5a228e2-7c56-41ef-b004-23c7dc29f89c button');\n",
              "      quickchartButtonEl.style.display =\n",
              "        google.colab.kernel.accessAllowed ? 'block' : 'none';\n",
              "    })();\n",
              "  </script>\n",
              "</div>\n",
              "    </div>\n",
              "  </div>\n"
            ]
          },
          "metadata": {},
          "execution_count": 2
        }
      ],
      "source": [
        "Customer_churn = pd.read_csv('/content/drive/My Drive/Assignment3/CustomerChurn_dataset.csv')\n",
        "Customer_churn.head()"
      ]
    },
    {
      "cell_type": "code",
      "execution_count": null,
      "metadata": {
        "colab": {
          "base_uri": "https://localhost:8080/"
        },
        "id": "VFjoykXMoZzU",
        "outputId": "6378ef6a-01bb-4c51-e761-3a8d76b56788"
      },
      "outputs": [
        {
          "output_type": "execute_result",
          "data": {
            "text/plain": [
              "(7043, 21)"
            ]
          },
          "metadata": {},
          "execution_count": 3
        }
      ],
      "source": [
        "Customer_churn.shape"
      ]
    },
    {
      "cell_type": "code",
      "execution_count": null,
      "metadata": {
        "colab": {
          "base_uri": "https://localhost:8080/"
        },
        "id": "42b-r1C7pWSE",
        "outputId": "c4aba1d8-dd15-40f7-f7dc-a42eb7721997"
      },
      "outputs": [
        {
          "output_type": "stream",
          "name": "stdout",
          "text": [
            "<class 'pandas.core.frame.DataFrame'>\n",
            "RangeIndex: 7043 entries, 0 to 7042\n",
            "Data columns (total 21 columns):\n",
            " #   Column            Non-Null Count  Dtype  \n",
            "---  ------            --------------  -----  \n",
            " 0   customerID        7043 non-null   object \n",
            " 1   gender            7043 non-null   object \n",
            " 2   SeniorCitizen     7043 non-null   int64  \n",
            " 3   Partner           7043 non-null   object \n",
            " 4   Dependents        7043 non-null   object \n",
            " 5   tenure            7043 non-null   int64  \n",
            " 6   PhoneService      7043 non-null   object \n",
            " 7   MultipleLines     7043 non-null   object \n",
            " 8   InternetService   7043 non-null   object \n",
            " 9   OnlineSecurity    7043 non-null   object \n",
            " 10  OnlineBackup      7043 non-null   object \n",
            " 11  DeviceProtection  7043 non-null   object \n",
            " 12  TechSupport       7043 non-null   object \n",
            " 13  StreamingTV       7043 non-null   object \n",
            " 14  StreamingMovies   7043 non-null   object \n",
            " 15  Contract          7043 non-null   object \n",
            " 16  PaperlessBilling  7043 non-null   object \n",
            " 17  PaymentMethod     7043 non-null   object \n",
            " 18  MonthlyCharges    7043 non-null   float64\n",
            " 19  TotalCharges      7043 non-null   object \n",
            " 20  Churn             7043 non-null   object \n",
            "dtypes: float64(1), int64(2), object(18)\n",
            "memory usage: 1.1+ MB\n"
          ]
        }
      ],
      "source": [
        "Customer_churn.info()"
      ]
    },
    {
      "cell_type": "code",
      "execution_count": null,
      "metadata": {
        "colab": {
          "base_uri": "https://localhost:8080/"
        },
        "id": "vP6G0ZKgpo2N",
        "outputId": "77213433-88f2-46a2-b722-ed0509625c92"
      },
      "outputs": [
        {
          "output_type": "execute_result",
          "data": {
            "text/plain": [
              "customerID          0\n",
              "gender              0\n",
              "SeniorCitizen       0\n",
              "Partner             0\n",
              "Dependents          0\n",
              "tenure              0\n",
              "PhoneService        0\n",
              "MultipleLines       0\n",
              "InternetService     0\n",
              "OnlineSecurity      0\n",
              "OnlineBackup        0\n",
              "DeviceProtection    0\n",
              "TechSupport         0\n",
              "StreamingTV         0\n",
              "StreamingMovies     0\n",
              "Contract            0\n",
              "PaperlessBilling    0\n",
              "PaymentMethod       0\n",
              "MonthlyCharges      0\n",
              "TotalCharges        0\n",
              "Churn               0\n",
              "dtype: int64"
            ]
          },
          "metadata": {},
          "execution_count": 5
        }
      ],
      "source": [
        "Customer_churn.isnull().sum()"
      ]
    },
    {
      "cell_type": "code",
      "execution_count": null,
      "metadata": {
        "id": "-_BkI4S0QkXm",
        "colab": {
          "base_uri": "https://localhost:8080/"
        },
        "outputId": "5aab5e75-f8eb-4efd-f425-27f569c0199d"
      },
      "outputs": [
        {
          "output_type": "stream",
          "name": "stdout",
          "text": [
            "Requirement already satisfied: pandas in /usr/local/lib/python3.10/dist-packages (1.5.3)\n",
            "Requirement already satisfied: scikit-learn in /usr/local/lib/python3.10/dist-packages (1.2.2)\n",
            "Requirement already satisfied: matplotlib in /usr/local/lib/python3.10/dist-packages (3.7.1)\n",
            "Requirement already satisfied: python-dateutil>=2.8.1 in /usr/local/lib/python3.10/dist-packages (from pandas) (2.8.2)\n",
            "Requirement already satisfied: pytz>=2020.1 in /usr/local/lib/python3.10/dist-packages (from pandas) (2023.3.post1)\n",
            "Requirement already satisfied: numpy>=1.21.0 in /usr/local/lib/python3.10/dist-packages (from pandas) (1.23.5)\n",
            "Requirement already satisfied: scipy>=1.3.2 in /usr/local/lib/python3.10/dist-packages (from scikit-learn) (1.11.3)\n",
            "Requirement already satisfied: joblib>=1.1.1 in /usr/local/lib/python3.10/dist-packages (from scikit-learn) (1.3.2)\n",
            "Requirement already satisfied: threadpoolctl>=2.0.0 in /usr/local/lib/python3.10/dist-packages (from scikit-learn) (3.2.0)\n",
            "Requirement already satisfied: contourpy>=1.0.1 in /usr/local/lib/python3.10/dist-packages (from matplotlib) (1.2.0)\n",
            "Requirement already satisfied: cycler>=0.10 in /usr/local/lib/python3.10/dist-packages (from matplotlib) (0.12.1)\n",
            "Requirement already satisfied: fonttools>=4.22.0 in /usr/local/lib/python3.10/dist-packages (from matplotlib) (4.44.0)\n",
            "Requirement already satisfied: kiwisolver>=1.0.1 in /usr/local/lib/python3.10/dist-packages (from matplotlib) (1.4.5)\n",
            "Requirement already satisfied: packaging>=20.0 in /usr/local/lib/python3.10/dist-packages (from matplotlib) (23.2)\n",
            "Requirement already satisfied: pillow>=6.2.0 in /usr/local/lib/python3.10/dist-packages (from matplotlib) (9.4.0)\n",
            "Requirement already satisfied: pyparsing>=2.3.1 in /usr/local/lib/python3.10/dist-packages (from matplotlib) (3.1.1)\n",
            "Requirement already satisfied: six>=1.5 in /usr/local/lib/python3.10/dist-packages (from python-dateutil>=2.8.1->pandas) (1.16.0)\n"
          ]
        }
      ],
      "source": [
        "pip install pandas scikit-learn matplotlib\n"
      ]
    },
    {
      "cell_type": "markdown",
      "source": [
        "1. Feature extraction"
      ],
      "metadata": {
        "id": "WQII9Rg6VB-_"
      }
    },
    {
      "cell_type": "code",
      "execution_count": null,
      "metadata": {
        "id": "xCT5fmktQuXl"
      },
      "outputs": [],
      "source": [
        "Customer_churn.drop('customerID', axis=1, inplace=True) #dropping ID: not relevant in predicting churn\n",
        "Customer_churn['TotalCharges'] = pd.to_numeric(Customer_churn['TotalCharges'], errors='coerce') # Converting 'TotalCharges' to numeric\n",
        "columns_to_one_hot_encode = [\"MultipleLines\", \"InternetService\", \"Contract\", \"PaymentMethod\"]\n",
        "Customer_churn = pd.get_dummies(Customer_churn, columns=columns_to_one_hot_encode, drop_first=True) # One hot encode\n",
        "columns_to_label_encode = [\"gender\", \"Partner\", \"Dependents\", \"PhoneService\", \"OnlineSecurity\",\n",
        "                           \"OnlineBackup\", \"DeviceProtection\", \"TechSupport\", \"StreamingTV\",\n",
        "                           \"StreamingMovies\", \"PaperlessBilling\", \"Churn\"] # Label Encode\n",
        "\n",
        "label_encoder = LabelEncoder()\n",
        "for column in columns_to_label_encode:\n",
        "    Customer_churn[column] = label_encoder.fit_transform(Customer_churn[column])"
      ]
    },
    {
      "cell_type": "code",
      "source": [
        "from joblib import dump\n",
        "dump(label_encoder, 'label_encoder.joblib')\n"
      ],
      "metadata": {
        "colab": {
          "base_uri": "https://localhost:8080/"
        },
        "id": "X_-2eRojfnVP",
        "outputId": "b738e8bd-2b11-48f5-e544-e2fb135cbcae"
      },
      "execution_count": null,
      "outputs": [
        {
          "output_type": "execute_result",
          "data": {
            "text/plain": [
              "['label_encoder.joblib']"
            ]
          },
          "metadata": {},
          "execution_count": 8
        }
      ]
    },
    {
      "cell_type": "code",
      "execution_count": null,
      "metadata": {
        "id": "27P8BJl8RkPk"
      },
      "outputs": [],
      "source": [
        "columns_with_missing_values =Customer_churn.columns[Customer_churn.isnull().any()].tolist()\n",
        "imputer = SimpleImputer(strategy='mean') #filling missing values if exist\n",
        "Customer_churn[columns_with_missing_values] = imputer.fit_transform(Customer_churn[columns_with_missing_values])"
      ]
    },
    {
      "cell_type": "code",
      "source": [
        "#Using feature importance to identify important features\n",
        "Y=Customer_churn['Churn']\n",
        "X=Customer_churn.drop('Churn',axis=1)\n",
        "\n",
        "X_train, X_test, y_train, y_test = train_test_split(X, Y, test_size=0.2, random_state=42)\n",
        "\n",
        "# Initialize the Random Forest Classifier\n",
        "rf = RandomForestClassifier(n_estimators=100, random_state=42)\n",
        "\n",
        "# Train the model\n",
        "rf.fit(X_train, y_train)\n",
        "\n",
        "# Extracting feature importance\n",
        "importances = rf.feature_importances_\n",
        "indices = np.argsort(importances)[::-1]\n",
        "\n",
        "# Plotting the feature importances\n",
        "plt.figure(figsize=(12, 6))\n",
        "plt.title(\"Feature Importances\")\n",
        "plt.bar(range(X_train.shape[1]), importances[indices], color=\"r\", align=\"center\")\n",
        "plt.xticks(range(X_train.shape[1]), X_train.columns[indices], rotation=90)\n",
        "plt.xlim([-1, X_train.shape[1]])\n",
        "plt.show()"
      ],
      "metadata": {
        "colab": {
          "base_uri": "https://localhost:8080/",
          "height": 813
        },
        "id": "0O-WW7vH7u_T",
        "outputId": "4d051653-af81-42d6-96ae-5a047ed71d3c"
      },
      "execution_count": null,
      "outputs": [
        {
          "output_type": "display_data",
          "data": {
            "text/plain": [
              "<Figure size 1200x600 with 1 Axes>"
            ],
            "image/png": "[encoded data removed]"
          },
          "metadata": {}
        }
      ]
    },
    {
      "cell_type": "code",
      "execution_count": null,
      "metadata": {
        "colab": {
          "base_uri": "https://localhost:8080/",
          "height": 223
        },
        "id": "DO7a6_feT8nL",
        "outputId": "b73b2141-efbe-4d82-ab52-c9c24bfe8507"
      },
      "outputs": [
        {
          "output_type": "stream",
          "name": "stdout",
          "text": [
            "Top 7 Features of High Importance:\n",
            "TotalCharges: 0.1899\n",
            "MonthlyCharges: 0.1718\n",
            "tenure: 0.1671\n",
            "OnlineSecurity: 0.0427\n",
            "TechSupport: 0.0392\n",
            "InternetService_Fiber optic: 0.0340\n",
            "PaymentMethod_Electronic check: 0.0331\n"
          ]
        },
        {
          "output_type": "execute_result",
          "data": {
            "text/plain": [
              "RandomForestClassifier(random_state=42)"
            ],
            "text/html": [
              "<style>#sk-container-id-1 {color: black;background-color: white;}#sk-container-id-1 pre{padding: 0;}#sk-container-id-1 div.sk-toggleable {background-color: white;}#sk-container-id-1 label.sk-toggleable__label {cursor: pointer;display: block;width: 100%;margin-bottom: 0;padding: 0.3em;box-sizing: border-box;text-align: center;}#sk-container-id-1 label.sk-toggleable__label-arrow:before {content: \"▸\";float: left;margin-right: 0.25em;color: #696969;}#sk-container-id-1 label.sk-toggleable__label-arrow:hover:before {color: black;}#sk-container-id-1 div.sk-estimator:hover label.sk-toggleable__label-arrow:before {color: black;}#sk-container-id-1 div.sk-toggleable__content {max-height: 0;max-width: 0;overflow: hidden;text-align: left;background-color: #f0f8ff;}#sk-container-id-1 div.sk-toggleable__content pre {margin: 0.2em;color: black;border-radius: 0.25em;background-color: #f0f8ff;}#sk-container-id-1 input.sk-toggleable__control:checked~div.sk-toggleable__content {max-height: 200px;max-width: 100%;overflow: auto;}#sk-container-id-1 input.sk-toggleable__control:checked~label.sk-toggleable__label-arrow:before {content: \"▾\";}#sk-container-id-1 div.sk-estimator input.sk-toggleable__control:checked~label.sk-toggleable__label {background-color: #d4ebff;}#sk-container-id-1 div.sk-label input.sk-toggleable__control:checked~label.sk-toggleable__label {background-color: #d4ebff;}#sk-container-id-1 input.sk-hidden--visually {border: 0;clip: rect(1px 1px 1px 1px);clip: rect(1px, 1px, 1px, 1px);height: 1px;margin: -1px;overflow: hidden;padding: 0;position: absolute;width: 1px;}#sk-container-id-1 div.sk-estimator {font-family: monospace;background-color: #f0f8ff;border: 1px dotted black;border-radius: 0.25em;box-sizing: border-box;margin-bottom: 0.5em;}#sk-container-id-1 div.sk-estimator:hover {background-color: #d4ebff;}#sk-container-id-1 div.sk-parallel-item::after {content: \"\";width: 100%;border-bottom: 1px solid gray;flex-grow: 1;}#sk-container-id-1 div.sk-label:hover label.sk-toggleable__label {background-color: #d4ebff;}#sk-container-id-1 div.sk-serial::before {content: \"\";position: absolute;border-left: 1px solid gray;box-sizing: border-box;top: 0;bottom: 0;left: 50%;z-index: 0;}#sk-container-id-1 div.sk-serial {display: flex;flex-direction: column;align-items: center;background-color: white;padding-right: 0.2em;padding-left: 0.2em;position: relative;}#sk-container-id-1 div.sk-item {position: relative;z-index: 1;}#sk-container-id-1 div.sk-parallel {display: flex;align-items: stretch;justify-content: center;background-color: white;position: relative;}#sk-container-id-1 div.sk-item::before, #sk-container-id-1 div.sk-parallel-item::before {content: \"\";position: absolute;border-left: 1px solid gray;box-sizing: border-box;top: 0;bottom: 0;left: 50%;z-index: -1;}#sk-container-id-1 div.sk-parallel-item {display: flex;flex-direction: column;z-index: 1;position: relative;background-color: white;}#sk-container-id-1 div.sk-parallel-item:first-child::after {align-self: flex-end;width: 50%;}#sk-container-id-1 div.sk-parallel-item:last-child::after {align-self: flex-start;width: 50%;}#sk-container-id-1 div.sk-parallel-item:only-child::after {width: 0;}#sk-container-id-1 div.sk-dashed-wrapped {border: 1px dashed gray;margin: 0 0.4em 0.5em 0.4em;box-sizing: border-box;padding-bottom: 0.4em;background-color: white;}#sk-container-id-1 div.sk-label label {font-family: monospace;font-weight: bold;display: inline-block;line-height: 1.2em;}#sk-container-id-1 div.sk-label-container {text-align: center;}#sk-container-id-1 div.sk-container {/* jupyter's `normalize.less` sets `[hidden] { display: none; }` but bootstrap.min.css set `[hidden] { display: none !important; }` so we also need the `!important` here to be able to override the default hidden behavior on the sphinx rendered scikit-learn.org. See: https://github.com/scikit-learn/scikit-learn/issues/21755 */display: inline-block !important;position: relative;}#sk-container-id-1 div.sk-text-repr-fallback {display: none;}</style><div id=\"sk-container-id-1\" class=\"sk-top-container\"><div class=\"sk-text-repr-fallback\"><pre>RandomForestClassifier(random_state=42)</pre><b>In a Jupyter environment, please rerun this cell to show the HTML representation or trust the notebook. <br />On GitHub, the HTML representation is unable to render, please try loading this page with nbviewer.org.</b></div><div class=\"sk-container\" hidden><div class=\"sk-item\"><div class=\"sk-estimator sk-toggleable\"><input class=\"sk-toggleable__control sk-hidden--visually\" id=\"sk-estimator-id-1\" type=\"checkbox\" checked><label for=\"sk-estimator-id-1\" class=\"sk-toggleable__label sk-toggleable__label-arrow\">RandomForestClassifier</label><div class=\"sk-toggleable__content\"><pre>RandomForestClassifier(random_state=42)</pre></div></div></div></div></div>"
            ]
          },
          "metadata": {},
          "execution_count": 11
        }
      ],
      "source": [
        "# Number of top features to select\n",
        "# Selecting features with a feature importance score of 0.03 and above, as seen on graph\n",
        "N = 7\n",
        "importances = rf.feature_importances_\n",
        "top_indices = np.argsort(importances)[::-1][:N]\n",
        "top_features_with_importance = [(X_train.columns[index], importances[index]) for index in top_indices]\n",
        "print(\"Top {} Features of High Importance:\".format(N))\n",
        "for feature, importance in top_features_with_importance:\n",
        "    print(f\"{feature}: {importance:.4f}\")# display features\n",
        "selected_features = [feature for feature, _ in top_features_with_importance]\n",
        "\n",
        "X_train_selected = X_train[selected_features]\n",
        "X_test_selected = X_test[selected_features] # Retraining with selected features\n",
        "\n",
        "rf_selected = RandomForestClassifier(n_estimators=100, random_state=42)\n",
        "rf_selected.fit(X_train_selected, y_train)"
      ]
    },
    {
      "cell_type": "code",
      "source": [
        "#Scaling\n",
        "# Separate the target variable 'Churn' from the features\n",
        "X = Customer_churn[selected_features]\n",
        "y = Customer_churn['Churn']\n",
        "numeric_columns = X.select_dtypes(include=['number']).columns\n",
        "scaler = StandardScaler()\n",
        "X_scaled= scaler.fit_transform(X)"
      ],
      "metadata": {
        "id": "7MkNcC0HOc8y"
      },
      "execution_count": null,
      "outputs": []
    },
    {
      "cell_type": "code",
      "source": [
        "concatenated_data = pd.concat([pd.DataFrame(X_scaled, columns=X.columns), y], axis=1)"
      ],
      "metadata": {
        "id": "9IgfvSWQWzbK"
      },
      "execution_count": null,
      "outputs": []
    },
    {
      "cell_type": "code",
      "source": [
        "scaler_filename = \"scaler_model.joblib\"  # Saving scaler\n",
        "joblib.dump(scaler, scaler_filename)"
      ],
      "metadata": {
        "id": "vLJW100aOttz",
        "colab": {
          "base_uri": "https://localhost:8080/"
        },
        "outputId": "ec0e7dff-18c3-4200-93c1-fc3158c195d1"
      },
      "execution_count": null,
      "outputs": [
        {
          "output_type": "execute_result",
          "data": {
            "text/plain": [
              "['scaler_model.joblib']"
            ]
          },
          "metadata": {},
          "execution_count": 14
        }
      ]
    },
    {
      "cell_type": "markdown",
      "metadata": {
        "id": "P6E6qGqWXioW"
      },
      "source": [
        "2.  EDA"
      ]
    },
    {
      "cell_type": "code",
      "execution_count": null,
      "metadata": {
        "colab": {
          "base_uri": "https://localhost:8080/",
          "height": 1000
        },
        "id": "zkELGT3uZkYm",
        "outputId": "99e4dc0e-f495-407a-8562-57275573396c"
      },
      "outputs": [
        {
          "output_type": "stream",
          "name": "stdout",
          "text": [
            "Churn Rate for Senior Citizen Men with Partner and Dependents: \n",
            "0    51.639344\n",
            "1    48.360656\n",
            "Name: Churn, dtype: float64\n"
          ]
        },
        {
          "output_type": "display_data",
          "data": {
            "text/plain": [
              "<Figure size 1000x600 with 1 Axes>"
            ],
            "image/png": "[encoded data removed]"
          },
          "metadata": {}
        },
        {
          "output_type": "stream",
          "name": "stdout",
          "text": [
            "Churn Rate for Senior Citizen Women with Partner and Dependents: \n",
            "0    50.157729\n",
            "1    49.842271\n",
            "Name: Churn, dtype: float64\n"
          ]
        },
        {
          "output_type": "display_data",
          "data": {
            "text/plain": [
              "<Figure size 1000x600 with 1 Axes>"
            ],
            "image/png": "[encoded data removed]"
          },
          "metadata": {}
        },
        {
          "output_type": "stream",
          "name": "stdout",
          "text": [
            "\n",
            "Overall Churn Rate: \n",
            "0    73.463013\n",
            "1    26.536987\n",
            "Name: Churn, dtype: float64\n"
          ]
        }
      ],
      "source": [
        "# Analyzing churn for Senior Citizen men with no partners and dependents\n",
        "segmented_data_men = Customer_churn[(Customer_churn['SeniorCitizen'] == 1) & # 1 is for Yes\n",
        "                                    (Customer_churn['gender'] == 1) &  # 1 is for Male\n",
        "                                    (Customer_churn['Partner'] == 0) &  # 0 is for no Partner\n",
        "                                    (Customer_churn['Dependents'] == 0)]  # 0 is for no Dependents\n",
        "\n",
        "# Analyzing churn for Senior Citizen women with partners and dependents\n",
        "segmented_data_women = Customer_churn[(Customer_churn['SeniorCitizen'] == 1) &  # 1 is for Yes\n",
        "                                      (Customer_churn['gender'] == 0) &  #0 is for Female\n",
        "                                      (Customer_churn['Partner'] == 0) &  # 1 is for a Partner\n",
        "                                      (Customer_churn['Dependents'] == 0)]  # 1 is for having a Dependents\n",
        "\n",
        "# Visualization for men\n",
        "if not segmented_data_men.empty:\n",
        "    segment_churn_rate_men = segmented_data_men['Churn'].value_counts(normalize=True) * 100\n",
        "    print(\"Churn Rate for Senior Citizen Men with Partner and Dependents: \")\n",
        "    print(segment_churn_rate_men)\n",
        "    plt.figure(figsize=(10, 6))\n",
        "    sns.countplot(x='Churn', data=segmented_data_men)\n",
        "    plt.title(\"Churn Distribution for Senior Citizen Men with no Partner nor Dependents\")\n",
        "    plt.show()\n",
        "else:\n",
        "    print(\"No data available for Senior Citizen Men with no Partner nor Dependents segment.\")\n",
        "\n",
        "# Visualization for women\n",
        "if not segmented_data_women.empty:\n",
        "    segment_churn_rate_women = segmented_data_women['Churn'].value_counts(normalize=True) * 100\n",
        "    print(\"Churn Rate for Senior Citizen Women with Partner and Dependents: \")\n",
        "    print(segment_churn_rate_women)\n",
        "    plt.figure(figsize=(10, 6))\n",
        "    sns.countplot(x='Churn', data=segmented_data_women)\n",
        "    plt.title(\"Churn Distribution for Senior Citizen Women with no Partner nor Dependents\")\n",
        "    plt.show()\n",
        "else:\n",
        "    print(\"No data available for Senior Citizen Women with Partner and Dependents segment.\")\n",
        "\n",
        "# Comparing with overall churn rate\n",
        "overall_churn_rate = Customer_churn['Churn'].value_counts(normalize=True) * 100\n",
        "print(\"\\nOverall Churn Rate: \")\n",
        "print(overall_churn_rate)\n"
      ]
    },
    {
      "cell_type": "markdown",
      "source": [],
      "metadata": {
        "id": "kxUU9bZkb9gI"
      }
    },
    {
      "cell_type": "markdown",
      "source": [
        "Analysis of seaborn's countplot\n",
        "\n",
        " Senior Citizen Men with No Partner nor Dependents:The churn rate for this group is almost evenly split, with 51.64% not churning and 48.36% churning. This suggests that senior citizen men without partners or dependents are almost as likely to churn as they are to stay.\n",
        "\n",
        "\n",
        "Senior Citizen Women with No Partner nor Dependents: The churn rate here is also nearly balanced, with 50.16% not churning and 49.84% churning. This indicates a similar trend to the male counterpart, where senior citizen women without partners or dependents are nearly equally likely to churn or stay.\n",
        "\n",
        "\n",
        "Overall Churn Rate: The overall churn rate in the dataset is 73.46% for customers not churning and 26.54% for those who do. This rate is significantly lower than the churn rates observed in the senior citizen segments without partners or dependents. In summary, the results indicate that senior citizens without partners or dependents are at a higher risk of churning than the average customer"
      ],
      "metadata": {
        "id": "-saEdjiRXM9y"
      }
    },
    {
      "cell_type": "code",
      "source": [],
      "metadata": {
        "id": "l3KU99UlWTjF"
      },
      "execution_count": null,
      "outputs": []
    },
    {
      "cell_type": "markdown",
      "source": [
        "EDA Continued"
      ],
      "metadata": {
        "id": "kTs_uR17WXKx"
      }
    },
    {
      "cell_type": "code",
      "source": [
        "segment_young = Customer_churn[Customer_churn['SeniorCitizen'] == 0]\n",
        "segment_long_tenure = Customer_churn[Customer_churn['tenure'] > 60]\n",
        "\n",
        "# Visualization for Young Customers Churn Rate\n",
        "plt.figure(figsize=(10, 6))\n",
        "sns.countplot(x='Churn', data=segment_young)\n",
        "plt.title(\"Churn Distribution for Young Customers\")\n",
        "plt.show()\n",
        "\n",
        "# Visualization for Long Tenure Customers Churn Rate\n",
        "plt.figure(figsize=(10, 6))\n",
        "sns.countplot(x='Churn', data=segment_long_tenure)\n",
        "plt.title(\"Churn Distribution for Long Tenure Customers\")\n",
        "plt.show()\n",
        "\n",
        "# Boxplot for Tenure and Churn\n",
        "plt.figure(figsize=(10, 6))\n",
        "sns.boxplot(x='Churn', y='tenure', data=Customer_churn)\n",
        "plt.title(\"Boxplot of Tenure by Churn Status\")\n",
        "plt.show()\n",
        "\n",
        "# Overall Churn Rate for comparison\n",
        "overall_churn_rate = Customer_churn['Churn'].value_counts(normalize=True) * 100\n",
        "print(\"\\nOverall Churn Rate: \")\n",
        "print(overall_churn_rate)\n",
        "\n"
      ],
      "metadata": {
        "colab": {
          "base_uri": "https://localhost:8080/",
          "height": 1000
        },
        "id": "_cJGwFyvYLWa",
        "outputId": "3f6cc2cc-bfb4-4f2f-b571-2a21857316c0"
      },
      "execution_count": null,
      "outputs": [
        {
          "output_type": "display_data",
          "data": {
            "text/plain": [
              "<Figure size 1000x600 with 1 Axes>"
            ],
            "image/png": "[encoded data removed]"
          },
          "metadata": {}
        },
        {
          "output_type": "display_data",
          "data": {
            "text/plain": [
              "<Figure size 1000x600 with 1 Axes>"
            ],
            "image/png": "[encoded data removed]"
          },
          "metadata": {}
        },
        {
          "output_type": "display_data",
          "data": {
            "text/plain": [
              "<Figure size 1000x600 with 1 Axes>"
            ],
            "image/png": "[encoded data removed]"
          },
          "metadata": {}
        },
        {
          "output_type": "stream",
          "name": "stdout",
          "text": [
            "\n",
            "Overall Churn Rate: \n",
            "0    73.463013\n",
            "1    26.536987\n",
            "Name: Churn, dtype: float64\n"
          ]
        }
      ]
    },
    {
      "cell_type": "markdown",
      "source": [
        "Young Customers Churn Rate: A countplot is used to show the churn distribution among young customers (non-senior citizens). The plot displays the number of young customers who have churned versus those who haven't.\n",
        "\n",
        "Long Tenure Customers Churn Rate: Another countplot is used to visualize the churn distribution among customers with a tenure greater than 60. This plot shows how many long-tenured customers have churned compared to those who have stayed.\n",
        "\n",
        "Boxplot for Tenure and Churn: A boxplot is created to compare the tenure distribution between customers who churned and those who didn't. This plot indicates whether customers who churn tend to have shorter or longer tenures compared to those who stay.\n",
        "\n",
        "Overall Churn Rate for Comparison: The overall churn rate is provided for context. In your dataset, 73.46% of customers have not churned, while 26.54% have."
      ],
      "metadata": {
        "id": "SwN52viKYIA6"
      }
    },
    {
      "cell_type": "code",
      "source": [
        "# Segment for Male Customers\n",
        "segmented_data_male = Customer_churn[Customer_churn['gender'] == 1]  # 1 is for Male\n",
        "\n",
        "# Segment for Female Customers\n",
        "segmented_data_female = Customer_churn[Customer_churn['gender'] == 0]  # 0 is for Female\n",
        "\n",
        "# Visualization for Male Customers\n",
        "if not segmented_data_male.empty:\n",
        "    segment_churn_rate_male = segmented_data_male['Churn'].value_counts(normalize=True) * 100\n",
        "    print(\"Churn Rate for Male Customers: \")\n",
        "    print(segment_churn_rate_male)\n",
        "    plt.figure(figsize=(10, 6))\n",
        "    sns.countplot(x='Churn', data=segmented_data_male)\n",
        "    plt.title(\"Churn Distribution for Male Customers\")\n",
        "    plt.show()\n",
        "else:\n",
        "    print(\"No data available for Male Customers segment.\")\n",
        "\n",
        "# Visualization for Female Customers\n",
        "if not segmented_data_female.empty:\n",
        "    segment_churn_rate_female = segmented_data_female['Churn'].value_counts(normalize=True) * 100\n",
        "    print(\"Churn Rate for Female Customers: \")\n",
        "    print(segment_churn_rate_female)\n",
        "    plt.figure(figsize=(10, 6))\n",
        "    sns.countplot(x='Churn', data=segmented_data_female)\n",
        "    plt.title(\"Churn Distribution for Female Customers\")\n",
        "    plt.show()\n",
        "else:\n",
        "    print(\"No data available for Female Customers segment.\")\n",
        "\n",
        "# Comparing with overall churn rate\n",
        "overall_churn_rate = Customer_churn['Churn'].value_counts(normalize=True) * 100\n",
        "print(\"\\nOverall Churn Rate: \")\n",
        "print(overall_churn_rate)\n"
      ],
      "metadata": {
        "colab": {
          "base_uri": "https://localhost:8080/",
          "height": 1000
        },
        "id": "aEKy7SmvdGFS",
        "outputId": "21b2621e-ab75-4ec3-8f7b-8bcb3d041267"
      },
      "execution_count": null,
      "outputs": [
        {
          "output_type": "stream",
          "name": "stdout",
          "text": [
            "Churn Rate for Male Customers: \n",
            "0    73.839662\n",
            "1    26.160338\n",
            "Name: Churn, dtype: float64\n"
          ]
        },
        {
          "output_type": "display_data",
          "data": {
            "text/plain": [
              "<Figure size 1000x600 with 1 Axes>"
            ],
            "image/png": "[encoded data removed]"
          },
          "metadata": {}
        },
        {
          "output_type": "stream",
          "name": "stdout",
          "text": [
            "Churn Rate for Female Customers: \n",
            "0    73.079128\n",
            "1    26.920872\n",
            "Name: Churn, dtype: float64\n"
          ]
        },
        {
          "output_type": "display_data",
          "data": {
            "text/plain": [
              "<Figure size 1000x600 with 1 Axes>"
            ],
            "image/png": "[encoded data removed]"
          },
          "metadata": {}
        },
        {
          "output_type": "stream",
          "name": "stdout",
          "text": [
            "\n",
            "Overall Churn Rate: \n",
            "0    73.463013\n",
            "1    26.536987\n",
            "Name: Churn, dtype: float64\n"
          ]
        }
      ]
    },
    {
      "cell_type": "markdown",
      "source": [
        "The countplot visualization for male customers shows the distribution of churned versus non-churned male customers, providing a visual representation of these percentages.Churn Rate for Male Customers: Churn rate among male customers is 73.84% for those who did not churn and 26.16% for those who did. This means that approximately 26% of the male customer segment churned.\n",
        "\n",
        "Churn Rate for Female Customers:\n",
        "Churn rate among female customers is 73.08% for non-churners and 26.92% for churners. This indicates that around 27% of the female customer segment churned, which is slightly higher than the churn rate for male customers.\n",
        "The countplot for female customers similarly illustrates the churn distribution in this segment.\n",
        "Overall Churn Rate: The overall churn rate in the dataset is 73.46% for customers who did not churn and 26.54% for those who did.\n",
        "In summary, the analysis shows that while there is a slight variation in churn rates between male and female customers, both are closely aligned with the overall churn rate"
      ],
      "metadata": {
        "id": "c30CqV-nZZZW"
      }
    },
    {
      "cell_type": "markdown",
      "metadata": {
        "id": "b4gWoSP8Xj0D"
      },
      "source": []
    },
    {
      "cell_type": "markdown",
      "source": [
        "3. Training"
      ],
      "metadata": {
        "id": "p-uZTSr5uxRg"
      }
    },
    {
      "cell_type": "code",
      "source": [
        "!pip install tensorflow\n"
      ],
      "metadata": {
        "id": "CdKQI3m1x9vJ",
        "colab": {
          "base_uri": "https://localhost:8080/"
        },
        "outputId": "06224024-6aa0-4b4b-f967-c4c63316dbe5"
      },
      "execution_count": null,
      "outputs": [
        {
          "output_type": "stream",
          "name": "stdout",
          "text": [
            "Requirement already satisfied: tensorflow in /usr/local/lib/python3.10/dist-packages (2.12.0)\n",
            "Requirement already satisfied: absl-py>=1.0.0 in /usr/local/lib/python3.10/dist-packages (from tensorflow) (1.4.0)\n",
            "Requirement already satisfied: astunparse>=1.6.0 in /usr/local/lib/python3.10/dist-packages (from tensorflow) (1.6.3)\n",
            "Requirement already satisfied: flatbuffers>=2.0 in /usr/local/lib/python3.10/dist-packages (from tensorflow) (23.5.26)\n",
            "Requirement already satisfied: gast<=0.4.0,>=0.2.1 in /usr/local/lib/python3.10/dist-packages (from tensorflow) (0.4.0)\n",
            "Requirement already satisfied: google-pasta>=0.1.1 in /usr/local/lib/python3.10/dist-packages (from tensorflow) (0.2.0)\n",
            "Requirement already satisfied: grpcio<2.0,>=1.24.3 in /usr/local/lib/python3.10/dist-packages (from tensorflow) (1.59.2)\n",
            "Requirement already satisfied: h5py>=2.9.0 in /usr/local/lib/python3.10/dist-packages (from tensorflow) (3.9.0)\n",
            "Requirement already satisfied: jax>=0.3.15 in /usr/local/lib/python3.10/dist-packages (from tensorflow) (0.4.20)\n",
            "Requirement already satisfied: keras<2.13,>=2.12.0 in /usr/local/lib/python3.10/dist-packages (from tensorflow) (2.12.0)\n",
            "Requirement already satisfied: libclang>=13.0.0 in /usr/local/lib/python3.10/dist-packages (from tensorflow) (16.0.6)\n",
            "Requirement already satisfied: numpy<1.24,>=1.22 in /usr/local/lib/python3.10/dist-packages (from tensorflow) (1.23.5)\n",
            "Requirement already satisfied: opt-einsum>=2.3.2 in /usr/local/lib/python3.10/dist-packages (from tensorflow) (3.3.0)\n",
            "Requirement already satisfied: packaging in /usr/local/lib/python3.10/dist-packages (from tensorflow) (23.2)\n",
            "Requirement already satisfied: protobuf!=4.21.0,!=4.21.1,!=4.21.2,!=4.21.3,!=4.21.4,!=4.21.5,<5.0.0dev,>=3.20.3 in /usr/local/lib/python3.10/dist-packages (from tensorflow) (3.20.3)\n",
            "Requirement already satisfied: setuptools in /usr/local/lib/python3.10/dist-packages (from tensorflow) (67.7.2)\n",
            "Requirement already satisfied: six>=1.12.0 in /usr/local/lib/python3.10/dist-packages (from tensorflow) (1.16.0)\n",
            "Requirement already satisfied: tensorboard<2.13,>=2.12 in /usr/local/lib/python3.10/dist-packages (from tensorflow) (2.12.3)\n",
            "Requirement already satisfied: tensorflow-estimator<2.13,>=2.12.0 in /usr/local/lib/python3.10/dist-packages (from tensorflow) (2.12.0)\n",
            "Requirement already satisfied: termcolor>=1.1.0 in /usr/local/lib/python3.10/dist-packages (from tensorflow) (2.3.0)\n",
            "Requirement already satisfied: typing-extensions>=3.6.6 in /usr/local/lib/python3.10/dist-packages (from tensorflow) (4.5.0)\n",
            "Requirement already satisfied: wrapt<1.15,>=1.11.0 in /usr/local/lib/python3.10/dist-packages (from tensorflow) (1.14.1)\n",
            "Requirement already satisfied: tensorflow-io-gcs-filesystem>=0.23.1 in /usr/local/lib/python3.10/dist-packages (from tensorflow) (0.34.0)\n",
            "Requirement already satisfied: wheel<1.0,>=0.23.0 in /usr/local/lib/python3.10/dist-packages (from astunparse>=1.6.0->tensorflow) (0.41.3)\n",
            "Requirement already satisfied: ml-dtypes>=0.2.0 in /usr/local/lib/python3.10/dist-packages (from jax>=0.3.15->tensorflow) (0.2.0)\n",
            "Requirement already satisfied: scipy>=1.9 in /usr/local/lib/python3.10/dist-packages (from jax>=0.3.15->tensorflow) (1.11.3)\n",
            "Requirement already satisfied: google-auth<3,>=1.6.3 in /usr/local/lib/python3.10/dist-packages (from tensorboard<2.13,>=2.12->tensorflow) (2.17.3)\n",
            "Requirement already satisfied: google-auth-oauthlib<1.1,>=0.5 in /usr/local/lib/python3.10/dist-packages (from tensorboard<2.13,>=2.12->tensorflow) (1.0.0)\n",
            "Requirement already satisfied: markdown>=2.6.8 in /usr/local/lib/python3.10/dist-packages (from tensorboard<2.13,>=2.12->tensorflow) (3.5.1)\n",
            "Requirement already satisfied: requests<3,>=2.21.0 in /usr/local/lib/python3.10/dist-packages (from tensorboard<2.13,>=2.12->tensorflow) (2.31.0)\n",
            "Requirement already satisfied: tensorboard-data-server<0.8.0,>=0.7.0 in /usr/local/lib/python3.10/dist-packages (from tensorboard<2.13,>=2.12->tensorflow) (0.7.2)\n",
            "Requirement already satisfied: werkzeug>=1.0.1 in /usr/local/lib/python3.10/dist-packages (from tensorboard<2.13,>=2.12->tensorflow) (3.0.1)\n",
            "Requirement already satisfied: cachetools<6.0,>=2.0.0 in /usr/local/lib/python3.10/dist-packages (from google-auth<3,>=1.6.3->tensorboard<2.13,>=2.12->tensorflow) (5.3.2)\n",
            "Requirement already satisfied: pyasn1-modules>=0.2.1 in /usr/local/lib/python3.10/dist-packages (from google-auth<3,>=1.6.3->tensorboard<2.13,>=2.12->tensorflow) (0.3.0)\n",
            "Requirement already satisfied: rsa<5,>=3.1.4 in /usr/local/lib/python3.10/dist-packages (from google-auth<3,>=1.6.3->tensorboard<2.13,>=2.12->tensorflow) (4.9)\n",
            "Requirement already satisfied: requests-oauthlib>=0.7.0 in /usr/local/lib/python3.10/dist-packages (from google-auth-oauthlib<1.1,>=0.5->tensorboard<2.13,>=2.12->tensorflow) (1.3.1)\n",
            "Requirement already satisfied: charset-normalizer<4,>=2 in /usr/local/lib/python3.10/dist-packages (from requests<3,>=2.21.0->tensorboard<2.13,>=2.12->tensorflow) (3.3.2)\n",
            "Requirement already satisfied: idna<4,>=2.5 in /usr/local/lib/python3.10/dist-packages (from requests<3,>=2.21.0->tensorboard<2.13,>=2.12->tensorflow) (3.4)\n",
            "Requirement already satisfied: urllib3<3,>=1.21.1 in /usr/local/lib/python3.10/dist-packages (from requests<3,>=2.21.0->tensorboard<2.13,>=2.12->tensorflow) (2.0.7)\n",
            "Requirement already satisfied: certifi>=2017.4.17 in /usr/local/lib/python3.10/dist-packages (from requests<3,>=2.21.0->tensorboard<2.13,>=2.12->tensorflow) (2023.7.22)\n",
            "Requirement already satisfied: MarkupSafe>=2.1.1 in /usr/local/lib/python3.10/dist-packages (from werkzeug>=1.0.1->tensorboard<2.13,>=2.12->tensorflow) (2.1.3)\n",
            "Requirement already satisfied: pyasn1<0.6.0,>=0.4.6 in /usr/local/lib/python3.10/dist-packages (from pyasn1-modules>=0.2.1->google-auth<3,>=1.6.3->tensorboard<2.13,>=2.12->tensorflow) (0.5.0)\n",
            "Requirement already satisfied: oauthlib>=3.0.0 in /usr/local/lib/python3.10/dist-packages (from requests-oauthlib>=0.7.0->google-auth-oauthlib<1.1,>=0.5->tensorboard<2.13,>=2.12->tensorflow) (3.2.2)\n"
          ]
        }
      ]
    },
    {
      "cell_type": "code",
      "source": [
        "!pip install keras-tuner\n"
      ],
      "metadata": {
        "id": "8Uag_lwR0iEr"
      },
      "execution_count": null,
      "outputs": []
    },
    {
      "cell_type": "code",
      "source": [
        "!pip install tensorflow scikeras scikit-learn"
      ],
      "metadata": {
        "id": "tvYP52X21DKU"
      },
      "execution_count": null,
      "outputs": []
    },
    {
      "cell_type": "code",
      "source": [
        "!pip install tensorflow==2.12.0"
      ],
      "metadata": {
        "id": "3ys5a1zNyURN"
      },
      "execution_count": null,
      "outputs": []
    },
    {
      "cell_type": "code",
      "source": [
        "X = concatenated_data[selected_features]"
      ],
      "metadata": {
        "id": "R65xFr8iYMxK"
      },
      "execution_count": null,
      "outputs": []
    },
    {
      "cell_type": "code",
      "source": [
        "!pip install scikeras  # Install SciKeras"
      ],
      "metadata": {
        "id": "dj0-004ohViZ"
      },
      "execution_count": null,
      "outputs": []
    },
    {
      "cell_type": "code",
      "source": [
        "import pandas as pd\n",
        "import numpy as np\n",
        "import tensorflow as tf\n",
        "from tensorflow.keras.layers import Input, Dense\n",
        "from tensorflow.keras.models import Model\n",
        "from sklearn.model_selection import GridSearchCV, StratifiedKFold\n",
        "from sklearn.preprocessing import StandardScaler\n",
        "from sklearn.metrics import accuracy_score\n",
        "from tensorflow.keras.wrappers.scikit_learn import KerasClassifier\n",
        "\n",
        "X = concatenated_data[selected_features]\n",
        "y = concatenated_data['Churn']\n",
        "\n",
        "X_train, X_test, y_train, y_test = train_test_split(X, y, test_size=0.2, random_state=42)\n",
        "\n",
        "# Defining MLP model using the Functional API\n",
        "def create_mlp_model(input_dim, hidden_layer_sizes=[64, 32], activation='relu'):\n",
        "    input_layer = Input(shape=(input_dim,))\n",
        "    x = input_layer\n",
        "    for layer_size in hidden_layer_sizes:\n",
        "        x = Dense(layer_size, activation=activation)(x)\n",
        "    output_layer = Dense(1, activation='sigmoid')(x)\n",
        "    model = Model(inputs=input_layer, outputs=output_layer)\n",
        "    model.compile(optimizer='adam', loss='binary_crossentropy', metrics=['accuracy'])\n",
        "    return model\n",
        "\n",
        "# hyperparameters to search\n",
        "param_grid = {\n",
        "    'hidden_layer_sizes': [(64,), (64, 32), (128,), (128, 64, 32)],\n",
        "    'activation': ['relu', 'tanh'],\n",
        "    'epochs': [10, 20],\n",
        "    'batch_size': [16, 32],\n",
        "}\n",
        "\n",
        "mlp = KerasClassifier(build_fn=create_mlp_model, input_dim=7, verbose=0) # MLP model using KerasClassifier\n",
        "cv = StratifiedKFold(n_splits=3, shuffle=True, random_state=42) # StratifiedKFold cross-validation object\n",
        "\n",
        "grid_search = GridSearchCV(estimator=mlp, param_grid=param_grid, cv=cv, scoring='accuracy', n_jobs=1)\n",
        "grid_search.fit(X_train, y_train)\n",
        "\n",
        "# Print the best hyperparameters and accuracy\n",
        "best_params = grid_search.best_params_\n",
        "best_accuracy = grid_search.best_score_\n",
        "print(\"Best Hyperparameters:\")\n",
        "print(best_params)\n",
        "print(\"Best Accuracy:\")\n",
        "print(best_accuracy)\n"
      ],
      "metadata": {
        "id": "r1cbImPntJ-m",
        "colab": {
          "base_uri": "https://localhost:8080/"
        },
        "outputId": "eb044218-4402-4383-dbcf-4c8d7f395b3d"
      },
      "execution_count": null,
      "outputs": [
        {
          "output_type": "stream",
          "name": "stderr",
          "text": [
            "<ipython-input-24-86df564ee4c3>:41: DeprecationWarning: KerasClassifier is deprecated, use Sci-Keras (https://github.com/adriangb/scikeras) instead. See https://www.adriangb.com/scikeras/stable/migration.html for help migrating.\n",
            "  mlp = KerasClassifier(build_fn=create_mlp_model, input_dim=7, verbose=0)\n"
          ]
        },
        {
          "output_type": "stream",
          "name": "stdout",
          "text": [
            "59/59 [==============================] - 1s 4ms/step\n",
            "59/59 [==============================] - 0s 2ms/step\n",
            "59/59 [==============================] - 0s 3ms/step\n",
            "59/59 [==============================] - 0s 1ms/step\n",
            "59/59 [==============================] - 0s 1ms/step\n",
            "59/59 [==============================] - 0s 1ms/step\n",
            "59/59 [==============================] - 0s 1ms/step\n",
            "59/59 [==============================] - 0s 2ms/step\n",
            "59/59 [==============================] - 0s 1ms/step\n",
            "59/59 [==============================] - 0s 3ms/step\n",
            "59/59 [==============================] - 0s 3ms/step\n",
            "59/59 [==============================] - 0s 2ms/step\n",
            "59/59 [==============================] - 0s 3ms/step\n",
            "59/59 [==============================] - 0s 3ms/step\n",
            "59/59 [==============================] - 0s 3ms/step\n",
            "59/59 [==============================] - 0s 1ms/step\n",
            "59/59 [==============================] - 0s 3ms/step\n",
            "59/59 [==============================] - 0s 2ms/step\n",
            "59/59 [==============================] - 0s 2ms/step\n",
            "59/59 [==============================] - 0s 3ms/step\n",
            "59/59 [==============================] - 0s 2ms/step\n",
            "59/59 [==============================] - 0s 3ms/step\n",
            "59/59 [==============================] - 0s 2ms/step\n",
            "59/59 [==============================] - 0s 1ms/step\n",
            "59/59 [==============================] - 0s 2ms/step\n",
            "59/59 [==============================] - 0s 4ms/step\n",
            "59/59 [==============================] - 0s 2ms/step\n",
            "59/59 [==============================] - 0s 2ms/step\n",
            "59/59 [==============================] - 0s 2ms/step\n",
            "59/59 [==============================] - 0s 2ms/step\n",
            "59/59 [==============================] - 0s 1ms/step\n",
            "59/59 [==============================] - 0s 2ms/step\n",
            "59/59 [==============================] - 0s 2ms/step\n",
            "59/59 [==============================] - 0s 3ms/step\n",
            "59/59 [==============================] - 0s 2ms/step\n",
            "59/59 [==============================] - 0s 3ms/step\n",
            "59/59 [==============================] - 0s 2ms/step\n",
            "59/59 [==============================] - 0s 2ms/step\n",
            "59/59 [==============================] - 0s 1ms/step\n",
            "59/59 [==============================] - 0s 3ms/step\n",
            "59/59 [==============================] - 0s 3ms/step\n",
            "59/59 [==============================] - 0s 2ms/step\n",
            "59/59 [==============================] - 0s 3ms/step\n",
            "59/59 [==============================] - 0s 1ms/step\n",
            "59/59 [==============================] - 0s 2ms/step\n",
            "59/59 [==============================] - 0s 3ms/step\n",
            "59/59 [==============================] - 0s 3ms/step\n",
            "59/59 [==============================] - 0s 3ms/step\n",
            "59/59 [==============================] - 0s 1ms/step\n",
            "59/59 [==============================] - 0s 2ms/step\n",
            "59/59 [==============================] - 0s 3ms/step\n",
            "59/59 [==============================] - 0s 2ms/step\n",
            "59/59 [==============================] - 0s 2ms/step\n",
            "59/59 [==============================] - 0s 2ms/step\n",
            "59/59 [==============================] - 0s 3ms/step\n",
            "59/59 [==============================] - 0s 2ms/step\n",
            "59/59 [==============================] - 0s 4ms/step\n",
            "59/59 [==============================] - 0s 3ms/step\n",
            "59/59 [==============================] - 0s 2ms/step\n",
            "59/59 [==============================] - 0s 3ms/step\n",
            "59/59 [==============================] - 0s 2ms/step\n",
            "59/59 [==============================] - 0s 2ms/step\n",
            "59/59 [==============================] - 0s 2ms/step\n",
            "59/59 [==============================] - 0s 3ms/step\n",
            "59/59 [==============================] - 0s 2ms/step\n",
            "59/59 [==============================] - 0s 3ms/step\n",
            "59/59 [==============================] - 0s 1ms/step\n",
            "59/59 [==============================] - 0s 2ms/step\n",
            "59/59 [==============================] - 0s 3ms/step\n",
            "59/59 [==============================] - 0s 2ms/step\n",
            "59/59 [==============================] - 0s 2ms/step\n",
            "59/59 [==============================] - 0s 2ms/step\n",
            "59/59 [==============================] - 0s 1ms/step\n",
            "59/59 [==============================] - 0s 2ms/step\n",
            "59/59 [==============================] - 0s 2ms/step\n",
            "59/59 [==============================] - 0s 2ms/step\n",
            "59/59 [==============================] - 0s 2ms/step\n",
            "59/59 [==============================] - 0s 3ms/step\n",
            "59/59 [==============================] - 0s 2ms/step\n",
            "59/59 [==============================] - 0s 1ms/step\n",
            "59/59 [==============================] - 1s 6ms/step\n",
            "59/59 [==============================] - 0s 2ms/step\n",
            "59/59 [==============================] - 0s 2ms/step\n",
            "59/59 [==============================] - 0s 2ms/step\n",
            "59/59 [==============================] - 0s 2ms/step\n",
            "59/59 [==============================] - 0s 2ms/step\n",
            "59/59 [==============================] - 0s 2ms/step\n",
            "59/59 [==============================] - 0s 2ms/step\n",
            "59/59 [==============================] - 0s 2ms/step\n",
            "59/59 [==============================] - 0s 2ms/step\n",
            "59/59 [==============================] - 0s 4ms/step\n",
            "59/59 [==============================] - 0s 1ms/step\n",
            "59/59 [==============================] - 0s 3ms/step\n",
            "59/59 [==============================] - 0s 3ms/step\n",
            "59/59 [==============================] - 0s 2ms/step\n",
            "59/59 [==============================] - 0s 3ms/step\n",
            "Best Hyperparameters:\n",
            "{'activation': 'relu', 'batch_size': 32, 'epochs': 20, 'hidden_layer_sizes': (64, 32)}\n",
            "Best Accuracy:\n",
            "0.7992545260915868\n"
          ]
        }
      ]
    },
    {
      "cell_type": "code",
      "source": [
        "%%writefile createModel.py\n",
        "# Define your MLP model with the best hyperparameters\n",
        "\n",
        "def create_mlp_model(input_dim, hidden_layer_sizes=(64,), activation='relu'):\n",
        "    input_layer = Input(shape=(input_dim,))\n",
        "    x = input_layer\n",
        "    for layer_size in hidden_layer_sizes:\n",
        "        x = Dense(layer_size, activation=activation)(x)\n",
        "    output_layer = Dense(1, activation='sigmoid')(x)\n",
        "    model = Model(inputs=input_layer, outputs=output_layer)\n",
        "    model.compile(optimizer='adam', loss='binary_crossentropy', metrics=['accuracy'])\n",
        "    return model\n"
      ],
      "metadata": {
        "colab": {
          "base_uri": "https://localhost:8080/"
        },
        "id": "-23Iw_nEAdGP",
        "outputId": "cc03523e-fe73-471e-aa50-fb9a4ee079e3"
      },
      "execution_count": null,
      "outputs": [
        {
          "output_type": "stream",
          "name": "stdout",
          "text": [
            "Writing createModel.py\n"
          ]
        }
      ]
    },
    {
      "cell_type": "markdown",
      "source": [
        "4. Retraining, Optimization, Retesting"
      ],
      "metadata": {
        "id": "qWy6AXB-nTAx"
      }
    },
    {
      "cell_type": "code",
      "source": [
        "from sklearn.metrics import accuracy_score, roc_auc_score\n",
        "\n",
        "# Create and train the model with the best hyperparameters\n",
        "input_dim = X_train.shape[1]\n",
        "best_model = create_mlp_model(input_dim=input_dim, hidden_layer_sizes=(64,), activation='relu')\n",
        "best_model.fit(X_train, y_train, epochs=best_params['epochs'], batch_size=best_params['batch_size'], verbose=1)\n",
        "\n",
        "y_pred = best_model.predict(X_test)  # Predict on the test set\n",
        "y_pred_binary = (y_pred > 0.5).astype(int)  # Convert probabilities to binary output\n",
        "\n",
        "accuracy = accuracy_score(y_test, y_pred_binary) # accuracy score\n",
        "auc_score = roc_auc_score(y_test, y_pred) # AUC score\n",
        "\n",
        "print(\"Test Accuracy:\", accuracy)\n",
        "print(\"Test AUC Score:\", auc_score)\n"
      ],
      "metadata": {
        "colab": {
          "base_uri": "https://localhost:8080/"
        },
        "id": "rG6axvPunQ60",
        "outputId": "5c0c9066-6a52-4c89-e18d-307f8f3b4ab7"
      },
      "execution_count": null,
      "outputs": [
        {
          "output_type": "stream",
          "name": "stdout",
          "text": [
            "Epoch 1/20\n",
            "177/177 [==============================] - 1s 3ms/step - loss: 0.4757 - accuracy: 0.7808\n",
            "Epoch 2/20\n",
            "177/177 [==============================] - 0s 2ms/step - loss: 0.4431 - accuracy: 0.7879\n",
            "Epoch 3/20\n",
            "177/177 [==============================] - 0s 2ms/step - loss: 0.4386 - accuracy: 0.7914\n",
            "Epoch 4/20\n",
            "177/177 [==============================] - 0s 2ms/step - loss: 0.4367 - accuracy: 0.7918\n",
            "Epoch 5/20\n",
            "177/177 [==============================] - 0s 3ms/step - loss: 0.4352 - accuracy: 0.7934\n",
            "Epoch 6/20\n",
            "177/177 [==============================] - 0s 2ms/step - loss: 0.4347 - accuracy: 0.7936\n",
            "Epoch 7/20\n",
            "177/177 [==============================] - 0s 2ms/step - loss: 0.4342 - accuracy: 0.7950\n",
            "Epoch 8/20\n",
            "177/177 [==============================] - 0s 2ms/step - loss: 0.4327 - accuracy: 0.7959\n",
            "Epoch 9/20\n",
            "177/177 [==============================] - 0s 2ms/step - loss: 0.4325 - accuracy: 0.7946\n",
            "Epoch 10/20\n",
            "177/177 [==============================] - 0s 2ms/step - loss: 0.4326 - accuracy: 0.7946\n",
            "Epoch 11/20\n",
            "177/177 [==============================] - 0s 2ms/step - loss: 0.4315 - accuracy: 0.7950\n",
            "Epoch 12/20\n",
            "177/177 [==============================] - 0s 2ms/step - loss: 0.4314 - accuracy: 0.7953\n",
            "Epoch 13/20\n",
            "177/177 [==============================] - 0s 2ms/step - loss: 0.4311 - accuracy: 0.7953\n",
            "Epoch 14/20\n",
            "177/177 [==============================] - 0s 2ms/step - loss: 0.4305 - accuracy: 0.7985\n",
            "Epoch 15/20\n",
            "177/177 [==============================] - 0s 2ms/step - loss: 0.4303 - accuracy: 0.7961\n",
            "Epoch 16/20\n",
            "177/177 [==============================] - 1s 3ms/step - loss: 0.4302 - accuracy: 0.7977\n",
            "Epoch 17/20\n",
            "177/177 [==============================] - 1s 4ms/step - loss: 0.4298 - accuracy: 0.7962\n",
            "Epoch 18/20\n",
            "177/177 [==============================] - 1s 3ms/step - loss: 0.4290 - accuracy: 0.7978\n",
            "Epoch 19/20\n",
            "177/177 [==============================] - 1s 3ms/step - loss: 0.4289 - accuracy: 0.7973\n",
            "Epoch 20/20\n",
            "177/177 [==============================] - 1s 3ms/step - loss: 0.4286 - accuracy: 0.7994\n",
            "45/45 [==============================] - 0s 2ms/step\n",
            "Test Accuracy: 0.8076650106458482\n",
            "Test AUC Score: 0.8515260281346072\n"
          ]
        }
      ]
    },
    {
      "cell_type": "code",
      "source": [
        "\n",
        "best_params['hidden_layer_sizes'] = (128, 32)\n",
        "\n",
        "# Retraining with optimized parameters\n",
        "optimized_model = create_mlp_model(input_dim=input_dim, hidden_layer_sizes=(64,), activation='relu')\n",
        "optimized_model.fit(X_train, y_train, epochs=best_params['epochs'], batch_size=best_params['batch_size'], verbose=1)\n",
        "\n",
        "# Re-evaluating optimized model\n",
        "y_pred_optimized = optimized_model.predict(X_test)\n",
        "y_pred_optimized_binary = (y_pred_optimized > 0.5).astype(int)\n",
        "\n",
        "accuracy_optimized = accuracy_score(y_test, y_pred_optimized_binary) #  accuracy for the optimized model\n",
        "auc_score_optimized = roc_auc_score(y_test, y_pred_optimized) # AUC score for the optimized model\n",
        "\n",
        "print(\"Optimized Test Accuracy:\", accuracy_optimized)\n",
        "print(\"Optimized Test AUC Score:\", auc_score_optimized)"
      ],
      "metadata": {
        "colab": {
          "base_uri": "https://localhost:8080/"
        },
        "id": "dAD_wkh2oyBp",
        "outputId": "44a4584e-7af5-43ce-f74a-05dbeafa44cc"
      },
      "execution_count": null,
      "outputs": [
        {
          "output_type": "stream",
          "name": "stdout",
          "text": [
            "Epoch 1/20\n",
            "177/177 [==============================] - 1s 4ms/step - loss: 0.4810 - accuracy: 0.7840\n",
            "Epoch 2/20\n",
            "177/177 [==============================] - 1s 4ms/step - loss: 0.4414 - accuracy: 0.7861\n",
            "Epoch 3/20\n",
            "177/177 [==============================] - 1s 3ms/step - loss: 0.4378 - accuracy: 0.7914\n",
            "Epoch 4/20\n",
            "177/177 [==============================] - 0s 2ms/step - loss: 0.4365 - accuracy: 0.7953\n",
            "Epoch 5/20\n",
            "177/177 [==============================] - 0s 3ms/step - loss: 0.4354 - accuracy: 0.7913\n",
            "Epoch 6/20\n",
            "177/177 [==============================] - 1s 4ms/step - loss: 0.4346 - accuracy: 0.7941\n",
            "Epoch 7/20\n",
            "177/177 [==============================] - 0s 3ms/step - loss: 0.4343 - accuracy: 0.7950\n",
            "Epoch 8/20\n",
            "177/177 [==============================] - 0s 2ms/step - loss: 0.4334 - accuracy: 0.7920\n",
            "Epoch 9/20\n",
            "177/177 [==============================] - 0s 3ms/step - loss: 0.4334 - accuracy: 0.7952\n",
            "Epoch 10/20\n",
            "177/177 [==============================] - 0s 3ms/step - loss: 0.4323 - accuracy: 0.7953\n",
            "Epoch 11/20\n",
            "177/177 [==============================] - 0s 2ms/step - loss: 0.4319 - accuracy: 0.7950\n",
            "Epoch 12/20\n",
            "177/177 [==============================] - 1s 5ms/step - loss: 0.4313 - accuracy: 0.7968\n",
            "Epoch 13/20\n",
            "177/177 [==============================] - 1s 5ms/step - loss: 0.4317 - accuracy: 0.7957\n",
            "Epoch 14/20\n",
            "177/177 [==============================] - 1s 4ms/step - loss: 0.4305 - accuracy: 0.7985\n",
            "Epoch 15/20\n",
            "177/177 [==============================] - 1s 4ms/step - loss: 0.4305 - accuracy: 0.7973\n",
            "Epoch 16/20\n",
            "177/177 [==============================] - 1s 4ms/step - loss: 0.4305 - accuracy: 0.7985\n",
            "Epoch 17/20\n",
            "177/177 [==============================] - 1s 4ms/step - loss: 0.4305 - accuracy: 0.7975\n",
            "Epoch 18/20\n",
            "177/177 [==============================] - 1s 3ms/step - loss: 0.4299 - accuracy: 0.7985\n",
            "Epoch 19/20\n",
            "177/177 [==============================] - 1s 3ms/step - loss: 0.4294 - accuracy: 0.8000\n",
            "Epoch 20/20\n",
            "177/177 [==============================] - 1s 3ms/step - loss: 0.4288 - accuracy: 0.8001\n",
            "45/45 [==============================] - 0s 2ms/step\n",
            "Optimized Test Accuracy: 0.8076650106458482\n",
            "Optimized Test AUC Score: 0.8513319428198786\n"
          ]
        }
      ]
    },
    {
      "cell_type": "code",
      "source": [
        "with open('auc_score.txt', 'w') as f:\n",
        "    f.write(f'AUC Score: {auc_score:.4f}')"
      ],
      "metadata": {
        "id": "YPmnBzCDk7cj"
      },
      "execution_count": null,
      "outputs": []
    },
    {
      "cell_type": "code",
      "source": [
        "import pickle\n",
        "# Use pickle to save the trained model\n",
        "with open('Nbest_model.plk', 'wb') as f:\n",
        "    pickle.dump(best_model, f)"
      ],
      "metadata": {
        "id": "SmjGzKeLHT37"
      },
      "execution_count": null,
      "outputs": []
    }
  ],
  "metadata": {
    "colab": {
      "provenance": []
    },
    "kernelspec": {
      "display_name": "Python 3",
      "name": "python3"
    },
    "language_info": {
      "name": "python"
    }
  },
  "nbformat": 4,
  "nbformat_minor": 0
}